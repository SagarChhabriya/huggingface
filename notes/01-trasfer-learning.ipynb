{
 "cells": [
  {
   "cell_type": "markdown",
   "id": "8a50dd02",
   "metadata": {},
   "source": [
    "# Transfer Learning\n",
    "Transfer learning is the act of initializing a model with another model's weight.\n",
    "\n",
    "Training from scratch requires more data and more compute to achieve comparable results. \n",
    "\n",
    "ImageNet is commonly used as a dataset for pretraining models in computer vision. 1.2 million images, 1000 labels. "
   ]
  },
  {
   "cell_type": "markdown",
   "id": "2faca97c",
   "metadata": {},
   "source": [
    "### In NLP, predicting the next word is a common pretraining objective.\n",
    "\n",
    "![image.png](assets/1.00-pretraining.png)\n",
    "\n"
   ]
  },
  {
   "cell_type": "markdown",
   "id": "6f8e26dd",
   "metadata": {},
   "source": [
    "### Another common pretraining objective in text is to guess the value of randomly masked words.\n",
    "\n",
    "![](assets/1.01-bert.png)\n",
    "\n"
   ]
  },
  {
   "cell_type": "markdown",
   "id": "a5e0e99f",
   "metadata": {},
   "source": []
  }
 ],
 "metadata": {
  "language_info": {
   "name": "python"
  }
 },
 "nbformat": 4,
 "nbformat_minor": 5
}
